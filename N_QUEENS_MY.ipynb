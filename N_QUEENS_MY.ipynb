{
 "metadata": {
  "language_info": {
   "codemirror_mode": {
    "name": "ipython",
    "version": 3
   },
   "file_extension": ".py",
   "mimetype": "text/x-python",
   "name": "python",
   "nbconvert_exporter": "python",
   "pygments_lexer": "ipython3",
   "version": "3.9.1-final"
  },
  "orig_nbformat": 2,
  "kernelspec": {
   "name": "python3",
   "display_name": "Python 3",
   "language": "python"
  }
 },
 "nbformat": 4,
 "nbformat_minor": 2,
 "cells": [
  {
   "cell_type": "code",
   "execution_count": 14,
   "metadata": {},
   "outputs": [
    {
     "output_type": "stream",
     "name": "stdout",
     "text": [
      "[[0, 0, 1, 0], [1, 0, 0, 0], [0, 0, 0, 1], [0, 1, 0, 0]]\n"
     ]
    }
   ],
   "source": [
    "def is_possible(board, row, col):\n",
    "    #this row on left side\n",
    "    for i in range(col):\n",
    "        if(board[row][i]):\n",
    "            return False\n",
    "    i = row\n",
    "    j = col\n",
    "    #upper left diagonal   \n",
    "        # for i, j in zip(range(row, -1, -1),range(col, -1, -1)):\n",
    "    while(i>=0 and j>=0):   \n",
    "        if(board[i][j]):\n",
    "            return False\n",
    "        i -=1\n",
    "        j -=1\n",
    "    #lower left diagonal \n",
    "        # for i, j in zip(range(row, N, 1),range(col, -1, -1)):\n",
    "    n = len(board)\n",
    "    i = row\n",
    "    j = col\n",
    "    while(i<n and j>=0):\n",
    "        if(board[i][j]):\n",
    "            return False\n",
    "        i +=1\n",
    "        j -=1\n",
    "    return True\n",
    "\n",
    "\n",
    "\n",
    "def n_queens(board, col):\n",
    "    n = len(board)\n",
    "    if(col>=n):\n",
    "        return True\n",
    "    #try all rows for the column col\n",
    "    for row in range(n):\n",
    "        if(is_possible(board, row, col) == True):    #can put queen in that row and column\n",
    "            #print(board)\n",
    "            board[row][col] = 1      #putting queen there\n",
    "            if(n_queens(board, col+1) == True):    #trying for rest of the queens\n",
    "                return True\n",
    "            board[row][col] = 0      #back-tracking\n",
    "    return False\n",
    "\n",
    "\n",
    "\n",
    "\n",
    "if __name__ == \"__main__\":\n",
    "    board = []\n",
    "    n = 4\n",
    "    for i in range(n):\n",
    "        temp = []\n",
    "        for j in range(n):\n",
    "            temp.append(0)\n",
    "        board.append(temp)\n",
    "    #print(board)\n",
    "    n_queens(board, 0)\n",
    "    print(board)\n",
    "    \n",
    "    "
   ]
  },
  {
   "cell_type": "code",
   "execution_count": null,
   "metadata": {},
   "outputs": [],
   "source": []
  }
 ]
}