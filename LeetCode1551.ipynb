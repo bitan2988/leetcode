{
  "nbformat": 4,
  "nbformat_minor": 0,
  "metadata": {
    "colab": {
      "name": "LeetCode1551.ipynb",
      "provenance": [],
      "authorship_tag": "ABX9TyPChNRNTDSaflbODWW5HMp9",
      "include_colab_link": true
    },
    "kernelspec": {
      "name": "python3",
      "display_name": "Python 3"
    }
  },
  "cells": [
    {
      "cell_type": "markdown",
      "metadata": {
        "id": "view-in-github",
        "colab_type": "text"
      },
      "source": [
        "<a href=\"https://colab.research.google.com/github/bitan2988/leetcode/blob/main/LeetCode1551.ipynb\" target=\"_parent\"><img src=\"https://colab.research.google.com/assets/colab-badge.svg\" alt=\"Open In Colab\"/></a>"
      ]
    },
    {
      "cell_type": "markdown",
      "metadata": {
        "id": "z0ZAO755-lZ_"
      },
      "source": [
        "https://leetcode.com/problems/minimum-operations-to-make-array-equal/submissions/"
      ]
    },
    {
      "cell_type": "markdown",
      "metadata": {
        "id": "Wst9hTWP7V1t"
      },
      "source": [
        "UPON ANALYSING THE ARRAY WE CAN NOTICE THAT IT IS AN A.P SERIES WITH A[0] = 1 AND COMMON DIFFERENCE = 2\r\n",
        "TOTAL NO. OF OPERATIONS OF  ADDING 1 AND SUBTRACTING ONE CAN BE DERIVED IN FOLLOWING WAYS\r\n",
        "\r\n",
        "1. *THE COMMON VALUE WHICH WILL REQUIRE THE MINIMUNN OPERATIONS TO REACH IS THE MIDDLE VALUE IF THE LENGTH IS ODD AND FOR EVEN LENGTH IT IS THE AVG. OF ALL THE VALUES*\r\n",
        "\r\n",
        "2. **FOR ODD LENGTH IT CAN BE FURTHER ANALYSED THAT THE NUMBER OF SWAPS FORM ANOTHER AP SERIES OF A=1 AND D=2 AS WE MOVE TOWARDS THE STARTING INDEX FROM THE MIDDLE OF THE ARRAY. THUS THE TOTAL  SWAPS WILL  BE THE SUM OF THE A.P SERIES FOR A LENGTH = N/2 AND WITH A=2 AND D=2.**\r\n",
        "\r\n",
        "**S = 2(N/2)+{(N/2)-1}N    N = LENGTH OF THE WHOLE ARRAY**\r\n",
        "\r\n",
        "3. **FOR EVEN LENGTH **\r\n",
        "\r\n",
        "**FOR EVEN LENGTH IT CAN BE FURTHER ANALYSED THAT THE NUMBER OF SWAPS FORM ANOTHER AP SERIES OF A=2 AND D=2 AS WE MOVE TOWARDS THE STARTING INDEX FROM THE MIDDLE OF THE ARRAY. THUS THE TOTAL  SWAPS WILL  BE THE SUM OF THE A.P SERIES FOR A LENGTH = N/2 AND WITH A=2 AND D=2.**\r\n",
        "\r\n",
        "**S = (N/2) + (N/2){(N/2)-1}    N = LENGTH OF THE WHOLE ARRAY**"
      ]
    },
    {
      "cell_type": "code",
      "metadata": {
        "id": "BRwlsKn87VMW"
      },
      "source": [
        "class Solution:\r\n",
        "    def minOperations(self, n: int) -> int:\r\n",
        "        r =  n%2\r\n",
        "        if (r):\r\n",
        "          m = (n-1)/2\r\n",
        "          return int((2*m)+(m-1)*m)\r\n",
        "        else:\r\n",
        "          m = n//2\r\n",
        "          return (m+m*(m-1))"
      ],
      "execution_count": null,
      "outputs": []
    }
  ]
}