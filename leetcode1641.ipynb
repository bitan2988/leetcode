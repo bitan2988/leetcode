{
  "nbformat": 4,
  "nbformat_minor": 0,
  "metadata": {
    "colab": {
      "name": "leetcode1641.ipynb",
      "provenance": [],
      "collapsed_sections": [],
      "authorship_tag": "ABX9TyMqs+wKw+6/sIH4WOHZAzao",
      "include_colab_link": true
    },
    "kernelspec": {
      "name": "python3",
      "display_name": "Python 3"
    }
  },
  "cells": [
    {
      "cell_type": "markdown",
      "metadata": {
        "id": "view-in-github",
        "colab_type": "text"
      },
      "source": [
        "<a href=\"https://colab.research.google.com/github/bitan2988/leetcode/blob/main/leetcode1641.ipynb\" target=\"_parent\"><img src=\"https://colab.research.google.com/assets/colab-badge.svg\" alt=\"Open In Colab\"/></a>"
      ]
    },
    {
      "cell_type": "code",
      "metadata": {
        "colab": {
          "base_uri": "https://localhost:8080/"
        },
        "id": "_QJZVRhTXgb_",
        "outputId": "9b5590b7-8633-4fcc-9891-9a91e69b950b"
      },
      "source": [
        "#https://leetcode.com/problems/count-sorted-vowel-strings/\r\n",
        "#https://www.youtube.com/watch?v=gdt7HQF56OI\r\n",
        "\r\n",
        "a = [1,1,1,1,1]   \r\n",
        "n = int(input())\r\n",
        "for i in range(2,n+1):\r\n",
        "  s = sum(a)\r\n",
        "  for j in range(4,-1,-1):\r\n",
        "    t = a[0:j]\r\n",
        "    ts = sum(t)\r\n",
        "    a[j] = s-ts\r\n",
        "print(a)\r\n",
        "print(sum(a))             "
      ],
      "execution_count": 5,
      "outputs": [
        {
          "output_type": "stream",
          "text": [
            "3\n",
            "[15, 10, 6, 3, 1]\n",
            "35\n"
          ],
          "name": "stdout"
        }
      ]
    },
    {
      "cell_type": "markdown",
      "metadata": {
        "id": "7EwVVji4YFTx"
      },
      "source": [
        "for length of 1 each of the vowel will have only one combination [a,e,i,o,u] lexicographically\r\n",
        "for length 2 [aa,ae,ai,ao,au,ee,ei,eo,eu,ii,io,iu,oo,ou,uu]\r\n",
        "\r\n",
        "we can see that \r\n",
        "1. a(n)[0] \"a\" will have combination equal to sum(a(n-1))\r\n",
        "2. a(n)[1] \"e\" will have combination equal to sum(a(n-1)) - a(n-1)[0]\r\n",
        "3. a(n)[2] \"i\" will have combination equal to sum(a(n-1)) - {a(n-1)[0] + a(n-1)[1]}\r\n",
        "4. a(n)[3] \"o\" will have combination equal to sum(a(n-1)) - {a(n-1)[0] + a(n-1)[1] + a(n-1)[2]}\r\n",
        "5. a(n)[3] \"o\" will have combination equal to sum(a(n-1)) - {a(n-1)[0] + a(n-1)[1] + a(n-1)[2] + a(n-1)[3]}"
      ]
    }
  ]
}