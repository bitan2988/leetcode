{
  "nbformat": 4,
  "nbformat_minor": 0,
  "metadata": {
    "colab": {
      "name": "LC41.ipynb",
      "provenance": [],
      "collapsed_sections": [],
      "authorship_tag": "ABX9TyNnNsm1rIh0XDNdUmim53Ex",
      "include_colab_link": true
    },
    "kernelspec": {
      "name": "python3",
      "display_name": "Python 3"
    }
  },
  "cells": [
    {
      "cell_type": "markdown",
      "metadata": {
        "id": "view-in-github",
        "colab_type": "text"
      },
      "source": [
        "<a href=\"https://colab.research.google.com/github/bitan2988/leetcode/blob/main/LC41.ipynb\" target=\"_parent\"><img src=\"https://colab.research.google.com/assets/colab-badge.svg\" alt=\"Open In Colab\"/></a>"
      ]
    },
    {
      "cell_type": "markdown",
      "metadata": {
        "id": "n3yFH1ueLFap"
      },
      "source": [
        "https://leetcode.com/problems/first-missing-positive/\r\n",
        "\r\n",
        "https://www.youtube.com/watch?v=-lfHWWMmXXM"
      ]
    },
    {
      "cell_type": "code",
      "metadata": {
        "colab": {
          "base_uri": "https://localhost:8080/"
        },
        "id": "_y45JmmTGRw8",
        "outputId": "6e538505-ae6c-4714-bbdb-b9927968cbdf"
      },
      "source": [
        "#nums =  [1,1]\r\n",
        "nums = [1]\r\n",
        "i = 0\r\n",
        "while (i<len(nums)):\r\n",
        "  val = nums[i]\r\n",
        "  if (val>=len(nums) or val<=0 or val==(i+1) or nums[val-1]==nums[i]):\r\n",
        "    i +=1\r\n",
        "  else:\r\n",
        "      nums[val-1], nums[i] = nums[i], nums[val-1]\r\n",
        "print(nums)\r\n",
        "flag = 1\r\n",
        "for i in range(len(nums)):\r\n",
        "  #print(\"i \",i)\r\n",
        "  if (nums[i]<=0 or nums[i]!=(i+1)):\r\n",
        "    flag = 0 \r\n",
        "    break\r\n",
        "#rint(\"i outside = \",i)\r\n",
        "if (flag):\r\n",
        "  print(i+2)\r\n",
        "else:\r\n",
        "  print(i+1)"
      ],
      "execution_count": 23,
      "outputs": [
        {
          "output_type": "stream",
          "text": [
            "[1]\n",
            "2\n"
          ],
          "name": "stdout"
        }
      ]
    },
    {
      "cell_type": "code",
      "metadata": {
        "id": "ePmu7eQOGqq8"
      },
      "source": [
        ""
      ],
      "execution_count": null,
      "outputs": []
    }
  ]
}