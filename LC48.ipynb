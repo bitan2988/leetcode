{
  "nbformat": 4,
  "nbformat_minor": 0,
  "metadata": {
    "colab": {
      "name": "LC48.ipynb",
      "provenance": [],
      "collapsed_sections": [],
      "authorship_tag": "ABX9TyOFVfllzjnFtH+PNXIlTe8q",
      "include_colab_link": true
    },
    "kernelspec": {
      "name": "python3",
      "display_name": "Python 3"
    }
  },
  "cells": [
    {
      "cell_type": "markdown",
      "metadata": {
        "id": "view-in-github",
        "colab_type": "text"
      },
      "source": [
        "<a href=\"https://colab.research.google.com/github/bitan2988/leetcode/blob/main/LC48.ipynb\" target=\"_parent\"><img src=\"https://colab.research.google.com/assets/colab-badge.svg\" alt=\"Open In Colab\"/></a>"
      ]
    },
    {
      "cell_type": "markdown",
      "metadata": {
        "id": "bHypHicCQpMt"
      },
      "source": [
        "**https://www.youtube.com/watch?v=SA867FvqHrM**"
      ]
    },
    {
      "cell_type": "code",
      "metadata": {
        "id": "sovHKeKAQocT"
      },
      "source": [
        "class Solution:\r\n",
        "    def rotate(self, matrix: List[List[int]]) -> None:\r\n",
        "        \"\"\"\r\n",
        "        Do not return anything, modify matrix in-place instead.\r\n",
        "        \"\"\"\r\n",
        "        n = len(matrix)\r\n",
        "        for i in range(n):\r\n",
        "            for j in range(i,n):\r\n",
        "                matrix[i][j], matrix[j][i] = matrix[j][i],  matrix[i][j]    #transposing the matrix\r\n",
        "        for i in range(n):\r\n",
        "            for j in range(n//2):\r\n",
        "                matrix[i][j],matrix[i][n-j-1] = matrix[i][n-j-1], matrix[i][j]    #reversing the transposed matrix"
      ],
      "execution_count": null,
      "outputs": []
    }
  ]
}