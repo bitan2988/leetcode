{
  "nbformat": 4,
  "nbformat_minor": 0,
  "metadata": {
    "colab": {
      "name": "LeetCode1561.ipynb",
      "provenance": [],
      "collapsed_sections": [],
      "authorship_tag": "ABX9TyNopBu2cFf3oSyj6fuB3uRo",
      "include_colab_link": true
    },
    "kernelspec": {
      "name": "python3",
      "display_name": "Python 3"
    }
  },
  "cells": [
    {
      "cell_type": "markdown",
      "metadata": {
        "id": "view-in-github",
        "colab_type": "text"
      },
      "source": [
        "<a href=\"https://colab.research.google.com/github/bitan2988/leetcode/blob/main/LeetCode1561.ipynb\" target=\"_parent\"><img src=\"https://colab.research.google.com/assets/colab-badge.svg\" alt=\"Open In Colab\"/></a>"
      ]
    },
    {
      "cell_type": "code",
      "metadata": {
        "id": "yNIDNyWIYixb"
      },
      "source": [
        "#https://leetcode.com/problems/maximum-number-of-coins-you-can-get/"
      ],
      "execution_count": null,
      "outputs": []
    },
    {
      "cell_type": "markdown",
      "metadata": {
        "id": "GuScRe69clqX"
      },
      "source": [
        "THE SIMPLE IDEA IS TO GIVE BOB THE MINIMUM 1/3 OF ALL THE PILES THUS SLICING THE ARRAY.\r\n",
        "\r\n",
        "NOW THAT BOB IS OUT OF SCENE THE SECOND LARGEST PILE WILL BE ALLOTTED TO US WHICH IS STORED IN THE ODD INDEX OF THE SLICED SORTED ARRAY"
      ]
    },
    {
      "cell_type": "code",
      "metadata": {
        "id": "bf2jDldCYq3_"
      },
      "source": [
        "piles = [9,8,7,6,5,1,2,3,4]\r\n",
        "piles.sort(reverse = True)\r\n",
        "print(piles)\r\n",
        "my = 0\r\n",
        "piles = piles[:len(piles)-int(len(piles)/3)]\r\n",
        "i = 1\r\n",
        "while (i<len(piles)):\r\n",
        "  print(piles[i])\r\n",
        "  my += piles[i]\r\n",
        "  i +=2\r\n",
        "print(my)"
      ],
      "execution_count": null,
      "outputs": []
    },
    {
      "cell_type": "code",
      "metadata": {
        "id": "c3WZyf2gY6s4"
      },
      "source": [
        ""
      ],
      "execution_count": null,
      "outputs": []
    }
  ]
}