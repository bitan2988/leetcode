{
  "nbformat": 4,
  "nbformat_minor": 0,
  "metadata": {
    "colab": {
      "name": "LeetCode11.ipynb",
      "provenance": [],
      "collapsed_sections": [],
      "authorship_tag": "ABX9TyOZHeP6U6BUHvzAF9Q6Jrlt",
      "include_colab_link": true
    },
    "kernelspec": {
      "name": "python3",
      "display_name": "Python 3"
    }
  },
  "cells": [
    {
      "cell_type": "markdown",
      "metadata": {
        "id": "view-in-github",
        "colab_type": "text"
      },
      "source": [
        "<a href=\"https://colab.research.google.com/github/bitan2988/leetcode/blob/main/LeetCode11.ipynb\" target=\"_parent\"><img src=\"https://colab.research.google.com/assets/colab-badge.svg\" alt=\"Open In Colab\"/></a>"
      ]
    },
    {
      "cell_type": "markdown",
      "metadata": {
        "id": "CO7ds20EM2dR"
      },
      "source": [
        "[Question](https://leetcode.com/problems/container-with-most-water/)\r\n",
        "Initially we consider the area constituting the exterior most lines. Now, to maximize the area, we need to consider the area between the lines of larger lengths. If we try to move the pointer at the longer line inwards, we won't gain any increase in area, since it is limited by the shorter line. But moving the shorter line's pointer could turn out to be beneficial, as per the same argument, despite the reduction in the width. This is done since a relatively longer line obtained by moving the shorter line's pointer might overcome the reduction in area caused by the width reduction"
      ]
    },
    {
      "cell_type": "code",
      "metadata": {
        "id": "qotX7GkbM1da"
      },
      "source": [
        "class Solution:\r\n",
        "    def maxArea(self, height: List[int]) -> int:\r\n",
        "        fp = 0\r\n",
        "        bp = len(height)-1\r\n",
        "        m = 0\r\n",
        "        while (fp<bp):\r\n",
        "            dist = bp-fp\r\n",
        "            area = dist*(min(height[bp],height[fp]))\r\n",
        "            m = max(m,area)\r\n",
        "            if (height[fp]<height[bp]):\r\n",
        "                fp+=1\r\n",
        "            else:\r\n",
        "                bp = bp-1\r\n",
        "        return m\r\n",
        "        \r\n",
        "            \r\n",
        "            \r\n",
        "        "
      ],
      "execution_count": null,
      "outputs": []
    }
  ]
}