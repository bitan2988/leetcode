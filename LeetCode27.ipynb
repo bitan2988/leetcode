{
  "nbformat": 4,
  "nbformat_minor": 0,
  "metadata": {
    "colab": {
      "name": "LeetCode27.ipynb",
      "provenance": [],
      "collapsed_sections": [],
      "authorship_tag": "ABX9TyO9ffJFnFz+DmzVp2LPkGG2",
      "include_colab_link": true
    },
    "kernelspec": {
      "name": "python3",
      "display_name": "Python 3"
    }
  },
  "cells": [
    {
      "cell_type": "markdown",
      "metadata": {
        "id": "view-in-github",
        "colab_type": "text"
      },
      "source": [
        "<a href=\"https://colab.research.google.com/github/bitan2988/leetcode/blob/main/LeetCode27.ipynb\" target=\"_parent\"><img src=\"https://colab.research.google.com/assets/colab-badge.svg\" alt=\"Open In Colab\"/></a>"
      ]
    },
    {
      "cell_type": "markdown",
      "metadata": {
        "id": "WU5P-roWjgmI"
      },
      "source": [
        "**https://leetcode.com/problems/remove-element/**"
      ]
    },
    {
      "cell_type": "code",
      "metadata": {
        "id": "4lig4bC4jfrm"
      },
      "source": [
        "#using python pop function\r\n",
        "\r\n",
        "\r\n",
        "class Solution:\r\n",
        "    def removeElement(self, nums: List[int], val: int) -> int:\r\n",
        "        count = 0\r\n",
        "        i = 0\r\n",
        "        while(i<len(nums)):\r\n",
        "            if nums[i]==val:\r\n",
        "                nums.pop(i)\r\n",
        "                count +=1\r\n",
        "            else:\r\n",
        "                i +=1\r\n",
        "        return len(nums)\r\n",
        "                \r\n",
        "                \r\n",
        "        "
      ],
      "execution_count": null,
      "outputs": []
    },
    {
      "cell_type": "code",
      "metadata": {
        "id": "nCFxwfV9jmDl"
      },
      "source": [
        "#using DUTCH FLAG method to put the unnecessary value at the end of the array --> necessary  value at the start of the array\r\n",
        "\r\n",
        "int i = 0\r\n",
        "for j in range(len(nums)):\r\n",
        "  if (nums[j] != val):\r\n",
        "    nums[i] = nums[j]\r\n",
        "    i++\r\n",
        "return i"
      ],
      "execution_count": null,
      "outputs": []
    }
  ]
}