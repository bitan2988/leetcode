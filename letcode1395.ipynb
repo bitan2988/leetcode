{
  "nbformat": 4,
  "nbformat_minor": 0,
  "metadata": {
    "colab": {
      "name": "letcode1395.ipynb",
      "provenance": [],
      "collapsed_sections": [],
      "authorship_tag": "ABX9TyPQMURiaKCRJkh+FOdq0+k+",
      "include_colab_link": true
    },
    "kernelspec": {
      "name": "python3",
      "display_name": "Python 3"
    }
  },
  "cells": [
    {
      "cell_type": "markdown",
      "metadata": {
        "id": "view-in-github",
        "colab_type": "text"
      },
      "source": [
        "<a href=\"https://colab.research.google.com/github/bitan2988/leetcode/blob/main/letcode1395.ipynb\" target=\"_parent\"><img src=\"https://colab.research.google.com/assets/colab-badge.svg\" alt=\"Open In Colab\"/></a>"
      ]
    },
    {
      "cell_type": "code",
      "metadata": {
        "colab": {
          "base_uri": "https://localhost:8080/"
        },
        "id": "i3eqAyB8Qag8",
        "outputId": "a09e64d1-b3bc-4142-b9cd-0361dd8b72d3"
      },
      "source": [
        "#https://leetcode.com/problems/count-number-of-teams/\r\n",
        "\r\n",
        "rating = [2,1,3]\r\n",
        "teams = 0\r\n",
        "for i in range(len(rating)):\r\n",
        "  i1=i2=d1=d2=0\r\n",
        "  for j in range(len(rating)):\r\n",
        "    if (i<j):\r\n",
        "      if (rating[i]<rating[j]):\r\n",
        "        i1 +=1\r\n",
        "      else:\r\n",
        "        d1 +=1\r\n",
        "    elif (i>j):\r\n",
        "      if (rating[i]<rating[j]):\r\n",
        "        d2 +=1\r\n",
        "      else:\r\n",
        "        i2 +=1\r\n",
        "  teams +=(i1*i2)\r\n",
        "  teams +=(d1*d2)\r\n",
        "\r\n",
        "print(teams)\r\n",
        "    \r\n"
      ],
      "execution_count": 4,
      "outputs": [
        {
          "output_type": "stream",
          "text": [
            "0\n"
          ],
          "name": "stdout"
        }
      ]
    },
    {
      "cell_type": "markdown",
      "metadata": {
        "id": "MLoni0HNSx2F"
      },
      "source": [
        ""
      ]
    },
    {
      "cell_type": "markdown",
      "metadata": {
        "id": "tjWZ0l7OSx4d"
      },
      "source": [
        "we are simply looking for elements which will form the centre element for either\r\n",
        "1. increasing series -> for this it should have a value lesser than it on left(i1) and a value greater than it on right(i2)\r\n",
        "2. decreasing series -> for this it should have a value greater than it on left(d1) and a value lesser than it on right(d2)"
      ]
    },
    {
      "cell_type": "code",
      "metadata": {
        "id": "QjEvpXpWQj-b"
      },
      "source": [
        ""
      ],
      "execution_count": null,
      "outputs": []
    },
    {
      "cell_type": "code",
      "metadata": {
        "id": "aGCyZ6fNQn6t"
      },
      "source": [
        ""
      ],
      "execution_count": null,
      "outputs": []
    }
  ]
}