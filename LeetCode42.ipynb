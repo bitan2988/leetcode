{
  "nbformat": 4,
  "nbformat_minor": 0,
  "metadata": {
    "colab": {
      "name": "LeetCode42.ipynb",
      "provenance": [],
      "collapsed_sections": [],
      "authorship_tag": "ABX9TyO1IUDSQFAOeVFQtbnO8br5",
      "include_colab_link": true
    },
    "kernelspec": {
      "name": "python3",
      "display_name": "Python 3"
    }
  },
  "cells": [
    {
      "cell_type": "markdown",
      "metadata": {
        "id": "view-in-github",
        "colab_type": "text"
      },
      "source": [
        "<a href=\"https://colab.research.google.com/github/bitan2988/leetcode/blob/main/LeetCode42.ipynb\" target=\"_parent\"><img src=\"https://colab.research.google.com/assets/colab-badge.svg\" alt=\"Open In Colab\"/></a>"
      ]
    },
    {
      "cell_type": "markdown",
      "metadata": {
        "id": "PgHekc4INb6i"
      },
      "source": [
        "https://leetcode.com/problems/trapping-rain-water/solution/\r\n",
        "\r\n",
        "\r\n",
        "Trapping rain water  O(n)"
      ]
    },
    {
      "cell_type": "code",
      "metadata": {
        "id": "CJ-4pGjUNav7"
      },
      "source": [
        "class Solution:\r\n",
        "    def trap(self, height: List[int]) -> int:\r\n",
        "        left = 0\r\n",
        "        right = len(height)-1\r\n",
        "        lm = rm = 0\r\n",
        "        ans = 0\r\n",
        "        while (left<right):\r\n",
        "            if (height[left]<height[right]):\r\n",
        "                if (height[left]>=lm):\r\n",
        "                    lm = height[left]\r\n",
        "                else:\r\n",
        "                    ans +=(lm-height[left])\r\n",
        "                left +=1\r\n",
        "            else:\r\n",
        "                if (height[right] >= rm):\r\n",
        "                    rm = height[right]\r\n",
        "                else:\r\n",
        "                    ans +=(rm-height[right])\r\n",
        "                right -=1\r\n",
        "        return ans\r\n",
        "        "
      ],
      "execution_count": null,
      "outputs": []
    }
  ]
}