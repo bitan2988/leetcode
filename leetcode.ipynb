{
  "nbformat": 4,
  "nbformat_minor": 0,
  "metadata": {
    "colab": {
      "name": "leetcode.ipynb",
      "provenance": [],
      "collapsed_sections": [],
      "authorship_tag": "ABX9TyPkg4/8RhKZ7I4ONlpdigjR",
      "include_colab_link": true
    },
    "kernelspec": {
      "name": "python3",
      "display_name": "Python 3"
    }
  },
  "cells": [
    {
      "cell_type": "markdown",
      "metadata": {
        "id": "view-in-github",
        "colab_type": "text"
      },
      "source": [
        "<a href=\"https://colab.research.google.com/github/bitan2988/leetcode/blob/main/leetcode.ipynb\" target=\"_parent\"><img src=\"https://colab.research.google.com/assets/colab-badge.svg\" alt=\"Open In Colab\"/></a>"
      ]
    },
    {
      "cell_type": "markdown",
      "metadata": {
        "id": "hEetr2k82SZS"
      },
      "source": [
        "**REMOVE DUPLICATES IN A SORTED ARRAY WITHOUT USING EXTRA ARRAY**\r\n",
        "\r\n",
        "WE USE TWO POIMTER TEXCHNIQUE\r\n",
        "NUMS[:I+1] IS THE SET ARRAY WITHOUT THE DUPLICATES"
      ]
    },
    {
      "cell_type": "code",
      "metadata": {
        "colab": {
          "base_uri": "https://localhost:8080/"
        },
        "id": "gAPH1CHQ2Q9p",
        "outputId": "5e88f843-eb22-401a-eb5b-57bdd8ddaa8a"
      },
      "source": [
        "nums = [1,1,1,1,2,2,2,2,2,3,4,4,5,5,5]\r\n",
        "i = 0\r\n",
        "for j in range(1, len(nums)):\r\n",
        "  if (nums[i]!=nums[j]):\r\n",
        "    i +=1\r\n",
        "    nums[i]=nums[j]\r\n",
        "print(nums[:i+1])"
      ],
      "execution_count": 2,
      "outputs": [
        {
          "output_type": "stream",
          "text": [
            "[1, 2, 3, 4, 5]\n"
          ],
          "name": "stdout"
        }
      ]
    },
    {
      "cell_type": "markdown",
      "metadata": {
        "id": "H8N9XwF95cCL"
      },
      "source": [
        ""
      ]
    },
    {
      "cell_type": "code",
      "metadata": {
        "colab": {
          "base_uri": "https://localhost:8080/"
        },
        "id": "Y8iR1EHD2yxk",
        "outputId": "36825b18-830c-485a-ea05-d8344eba315d"
      },
      "source": [
        "nums = [0,0,1,1,1,1,2,3,3]\r\n",
        "i = 0\r\n",
        "dup = i+1\r\n",
        "if (nums[dup]==nums[i]):\r\n",
        "  nums[i+1] = nums[dup]\r\n",
        "  i = dup\r\n",
        "else:\r\n",
        "  i =+1\r\n",
        "for j in range(2, len(nums)):\r\n",
        "  if (nums[i]!=nums[j]):\r\n",
        "    i +=1\r\n",
        "    nums[i]=nums[j]\r\n",
        "    if (j<len(nums)-1):\r\n",
        "      dup = j+1\r\n",
        "      if (nums[dup]==nums[i]):\r\n",
        "        nums[i+1] = nums[dup]\r\n",
        "        i = i+1\r\n",
        "    else:\r\n",
        "      nums[i+1] = nums[dup]\r\n",
        "      i = i+1\r\n",
        "print(i)\r\n",
        "print(nums)"
      ],
      "execution_count": 19,
      "outputs": [
        {
          "output_type": "stream",
          "text": [
            "6\n",
            "[0, 0, 1, 1, 2, 3, 3, 3, 3]\n"
          ],
          "name": "stdout"
        }
      ]
    },
    {
      "cell_type": "markdown",
      "metadata": {
        "id": "nr6_ZJyp_6J-"
      },
      "source": [
        "**Given a sorted array nums, remove the duplicates in-place such that duplicates appeared at most twice and return the new length.\r\n",
        "\r\n",
        "Do not allocate extra space for another array; you must do this by modifying the input array in-place with O(1) extra memory**"
      ]
    },
    {
      "cell_type": "code",
      "metadata": {
        "colab": {
          "base_uri": "https://localhost:8080/"
        },
        "id": "cOKbgnXZ42ZO",
        "outputId": "5a9ec211-f5c9-4a41-ac52-ff6cb47beb3c"
      },
      "source": [
        "nums = [0,1,1,1,1,2,2,2,3,3]\r\n",
        "l = 2\r\n",
        "for j in range(2,len(nums)):\r\n",
        "  print(\"comparing nums[l-2] = \",l,\"->\",nums[l-2],\"and nums[j] = \",j, \"->\",nums[j])\r\n",
        "  if (nums[l-2]!=nums[j]):\r\n",
        "    nums[l] = nums[j]\r\n",
        "    print(nums)\r\n",
        "    l +=1\r\n",
        "print(nums)\r\n",
        "print(l)"
      ],
      "execution_count": 25,
      "outputs": [
        {
          "output_type": "stream",
          "text": [
            "comparing nums[l-2] =  2 -> 0 and nums[j] =  2 -> 1\n",
            "[0, 1, 1, 1, 1, 2, 2, 2, 3, 3]\n",
            "comparing nums[l-2] =  3 -> 1 and nums[j] =  3 -> 1\n",
            "comparing nums[l-2] =  3 -> 1 and nums[j] =  4 -> 1\n",
            "comparing nums[l-2] =  3 -> 1 and nums[j] =  5 -> 2\n",
            "[0, 1, 1, 2, 1, 2, 2, 2, 3, 3]\n",
            "comparing nums[l-2] =  4 -> 1 and nums[j] =  6 -> 2\n",
            "[0, 1, 1, 2, 2, 2, 2, 2, 3, 3]\n",
            "comparing nums[l-2] =  5 -> 2 and nums[j] =  7 -> 2\n",
            "comparing nums[l-2] =  5 -> 2 and nums[j] =  8 -> 3\n",
            "[0, 1, 1, 2, 2, 3, 2, 2, 3, 3]\n",
            "comparing nums[l-2] =  6 -> 2 and nums[j] =  9 -> 3\n",
            "[0, 1, 1, 2, 2, 3, 3, 2, 3, 3]\n",
            "[0, 1, 1, 2, 2, 3, 3, 2, 3, 3]\n",
            "7\n"
          ],
          "name": "stdout"
        }
      ]
    },
    {
      "cell_type": "code",
      "metadata": {
        "id": "U2sx1Yfx92K7"
      },
      "source": [
        ""
      ],
      "execution_count": null,
      "outputs": []
    }
  ]
}