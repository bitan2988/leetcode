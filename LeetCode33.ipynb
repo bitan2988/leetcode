{
  "nbformat": 4,
  "nbformat_minor": 0,
  "metadata": {
    "colab": {
      "name": "LeetCode33.ipynb",
      "provenance": [],
      "collapsed_sections": [],
      "authorship_tag": "ABX9TyPeDs+gDW5fj9pmppls1nL9",
      "include_colab_link": true
    },
    "kernelspec": {
      "name": "python3",
      "display_name": "Python 3"
    }
  },
  "cells": [
    {
      "cell_type": "markdown",
      "metadata": {
        "id": "view-in-github",
        "colab_type": "text"
      },
      "source": [
        "<a href=\"https://colab.research.google.com/github/bitan2988/leetcode/blob/main/LeetCode33.ipynb\" target=\"_parent\"><img src=\"https://colab.research.google.com/assets/colab-badge.svg\" alt=\"Open In Colab\"/></a>"
      ]
    },
    {
      "cell_type": "markdown",
      "metadata": {
        "id": "KZzBeC9HJ-tO"
      },
      "source": [
        "**https://www.youtube.com/watch?v=oTfPJKGEHcc**\r\n",
        "\r\n",
        "Search in a rotated sorted array"
      ]
    },
    {
      "cell_type": "code",
      "metadata": {
        "id": "nJFUBE1sJ96m"
      },
      "source": [
        "class Solution:\r\n",
        "    def search(self, nums: List[int], target: int) -> int:\r\n",
        "        l = 0\r\n",
        "        r =  len(nums)-1\r\n",
        "        while (l<=r):\r\n",
        "            mid = (l+r)//2\r\n",
        "            if (l==r and nums[l]!=target):\r\n",
        "                return -1\r\n",
        "            if (nums[mid]==target):     \r\n",
        "                return mid\r\n",
        "            elif (nums[mid]>=nums[l]):      #if in the strictly increasing part  then we can directly apply binary search \r\n",
        "                if (target<=nums[mid] and target>=nums[l]):     #in the left part\r\n",
        "                    r = mid-1\r\n",
        "                else:    #in the right part\r\n",
        "                    l = mid+1\r\n",
        "            else:                        #if not than we have to look for the strictly incrreasing subarray it falls under as normal binary search will indicate to go right when the value is in left\r\n",
        "                if (target>=nums[mid] and target<=nums[r]):    #on the right  side and falls on right sides strictly increasing subarray of the current mid\r\n",
        "                    l = mid+1\r\n",
        "                else:           #on the left side and falls on left sides strictly increasing subarray of the current mid\r\n",
        "                    r = mid-1\r\n",
        "  \r\n",
        "\r\n",
        "#[5,1,3]\r\n",
        "#target  = 5        \r\n",
        "#here normal binary would suggest to go right even when the value is on left \r\n",
        "#so the last else part works opposite to a normal binary serach    \r\n",
        "                    "
      ],
      "execution_count": null,
      "outputs": []
    }
  ]
}