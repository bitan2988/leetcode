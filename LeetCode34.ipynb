{
  "nbformat": 4,
  "nbformat_minor": 0,
  "metadata": {
    "colab": {
      "name": "LeetCode34.ipynb",
      "provenance": [],
      "collapsed_sections": [],
      "authorship_tag": "ABX9TyOB25spDKRYvvoEZ+LflEdL",
      "include_colab_link": true
    },
    "kernelspec": {
      "name": "python3",
      "display_name": "Python 3"
    }
  },
  "cells": [
    {
      "cell_type": "markdown",
      "metadata": {
        "id": "view-in-github",
        "colab_type": "text"
      },
      "source": [
        "<a href=\"https://colab.research.google.com/github/bitan2988/leetcode/blob/main/LeetCode34.ipynb\" target=\"_parent\"><img src=\"https://colab.research.google.com/assets/colab-badge.svg\" alt=\"Open In Colab\"/></a>"
      ]
    },
    {
      "cell_type": "code",
      "metadata": {
        "colab": {
          "base_uri": "https://localhost:8080/"
        },
        "id": "khlAgJ_23KEA",
        "outputId": "8ec36fa2-2766-41d5-81f0-e785ff132293"
      },
      "source": [
        "nums = [3,-1,-1]\r\n",
        "target = 0\r\n",
        "low = 0\r\n",
        "hi = len(nums)\r\n",
        "last_occurance = -1\r\n",
        "first_occurance = -1\r\n",
        "#last occurance\r\n",
        "if (hi<=0):\r\n",
        "  print(\"0\")\r\n",
        "elif (hi==2):\r\n",
        "  if (nums[0]==target):\r\n",
        "    first_ocurance = 0\r\n",
        "  else:\r\n",
        "    if (nums[1]==target):\r\n",
        "      temp = [1,1]\r\n",
        "      print(temp)\r\n",
        "    else:\r\n",
        "      print([-1,-1])\r\n",
        "else:\r\n",
        "  while (low<hi):\r\n",
        "    mid = (hi+low)//2\r\n",
        "    if (nums[mid]>target or nums[mid]==target):\r\n",
        "      hi = mid\r\n",
        "    else:\r\n",
        "      low = mid+1\r\n",
        "  if (low<len(nums)-1):\r\n",
        "    first_occurance = low   \r\n",
        "  #first occurance\r\n",
        "  low = 0\r\n",
        "  hi = len(nums)\r\n",
        "  while (low<hi):\r\n",
        "    mid = (hi+low)//2\r\n",
        "    if (nums[mid]>target):\r\n",
        "      hi = mid\r\n",
        "    else:\r\n",
        "      low = mid+1\r\n",
        "  if (low<len(nums)-1):\r\n",
        "    last_occurance = hi-1 \r\n",
        "  print(last_occurance, first_occurance)\r\n"
      ],
      "execution_count": 24,
      "outputs": [
        {
          "output_type": "stream",
          "text": [
            "-1 -1\n"
          ],
          "name": "stdout"
        }
      ]
    },
    {
      "cell_type": "code",
      "metadata": {
        "id": "sZzBw7NI7yOE"
      },
      "source": [
        "class Solution:\r\n",
        "    # returns leftmost (or rightmost) index at which `target` should be inserted in sorted\r\n",
        "    # array `nums` via binary search.\r\n",
        "    def extreme_insertion_index(self, nums, target, left):\r\n",
        "        lo = 0\r\n",
        "        hi = len(nums)\r\n",
        "\r\n",
        "        while lo < hi:\r\n",
        "            mid = (lo + hi) // 2\r\n",
        "            if nums[mid] > target or (left and target == nums[mid]):\r\n",
        "                hi = mid\r\n",
        "            else:\r\n",
        "                lo = mid+1\r\n",
        "\r\n",
        "        return lo\r\n",
        "\r\n",
        "\r\n",
        "    def searchRange(self, nums, target):\r\n",
        "        left_idx = self.extreme_insertion_index(nums, target, True)\r\n",
        "\r\n",
        "        # assert that `left_idx` is within the array bounds and that `target`\r\n",
        "        # is actually in `nums`.\r\n",
        "        if left_idx == len(nums) or nums[left_idx] != target:\r\n",
        "            return [-1, -1]\r\n",
        "\r\n",
        "        return [left_idx, self.extreme_insertion_index(nums, target, False)-1]"
      ],
      "execution_count": null,
      "outputs": []
    }
  ]
}