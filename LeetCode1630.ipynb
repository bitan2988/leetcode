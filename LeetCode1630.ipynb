{
  "nbformat": 4,
  "nbformat_minor": 0,
  "metadata": {
    "colab": {
      "name": "LeetCode1630.ipynb",
      "provenance": [],
      "collapsed_sections": [],
      "authorship_tag": "ABX9TyPinZWdmQJPQ1djtVKFPK4R",
      "include_colab_link": true
    },
    "kernelspec": {
      "name": "python3",
      "display_name": "Python 3"
    }
  },
  "cells": [
    {
      "cell_type": "markdown",
      "metadata": {
        "id": "view-in-github",
        "colab_type": "text"
      },
      "source": [
        "<a href=\"https://colab.research.google.com/github/bitan2988/leetcode/blob/main/LeetCode1630.ipynb\" target=\"_parent\"><img src=\"https://colab.research.google.com/assets/colab-badge.svg\" alt=\"Open In Colab\"/></a>"
      ]
    },
    {
      "cell_type": "markdown",
      "metadata": {
        "id": "OJrLUrMzW-n-"
      },
      "source": [
        "**https://leetcode.com/problems/arithmetic-subarrays/**\r\n"
      ]
    },
    {
      "cell_type": "code",
      "metadata": {
        "id": "KBfgLWl_m_B6"
      },
      "source": [
        "class Solution:\r\n",
        "    def checkArithmeticSubarrays(self, nums: List[int], l: List[int], r: List[int]) -> List[bool]:\r\n",
        "        result = []\r\n",
        "        for i in range(len(l)):\r\n",
        "            temp = nums[l[i]:r[i]+1]\r\n",
        "            if (len(temp)<2):\r\n",
        "                result.append(False)\r\n",
        "            else:\r\n",
        "                temp.sort(reverse = True)\r\n",
        "                d = temp[1]-temp[0]\r\n",
        "                res = True\r\n",
        "                for i in range(1,len(temp)-1):\r\n",
        "                    if ((temp[i+1]-temp[i])!=d):\r\n",
        "                        res = False\r\n",
        "                        break\r\n",
        "                result.append(res)\r\n",
        "        return result"
      ],
      "execution_count": null,
      "outputs": []
    }
  ]
}