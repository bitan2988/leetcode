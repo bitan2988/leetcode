{
  "nbformat": 4,
  "nbformat_minor": 0,
  "metadata": {
    "colab": {
      "name": "LeetCode15.ipynb",
      "provenance": [],
      "collapsed_sections": [],
      "authorship_tag": "ABX9TyMoMvCeuCQPyj+Ae9HohNUp",
      "include_colab_link": true
    },
    "kernelspec": {
      "name": "python3",
      "display_name": "Python 3"
    }
  },
  "cells": [
    {
      "cell_type": "markdown",
      "metadata": {
        "id": "view-in-github",
        "colab_type": "text"
      },
      "source": [
        "<a href=\"https://colab.research.google.com/github/bitan2988/leetcode/blob/main/LeetCode15.ipynb\" target=\"_parent\"><img src=\"https://colab.research.google.com/assets/colab-badge.svg\" alt=\"Open In Colab\"/></a>"
      ]
    },
    {
      "cell_type": "markdown",
      "metadata": {
        "id": "EgjYWwIpjFFl"
      },
      "source": [
        "https://leetcode.com/problems/3sum/\r\n",
        "\r\n",
        "https://www.geeksforgeeks.org/find-a-triplet-that-sum-to-a-given-value/\r\n",
        "\r\n"
      ]
    },
    {
      "cell_type": "code",
      "metadata": {
        "colab": {
          "base_uri": "https://localhost:8080/"
        },
        "id": "nlvSRte5ZjaS",
        "outputId": "5f84466d-4d70-4f76-ecf8-8dec70b4297b"
      },
      "source": [
        "class Solution:\r\n",
        "    def threeSum(self, nums: List[int]) -> List[List[int]]:\r\n",
        "        res = []\r\n",
        "        nums.sort()\r\n",
        "        \r\n",
        "        for i, a in enumerate(nums):\r\n",
        "            if i > 0 and a == nums[i - 1]:\r\n",
        "                continue\r\n",
        "            \r\n",
        "            l, r = i + 1, len(nums) - 1\r\n",
        "            while l < r:\r\n",
        "                threeSum = a + nums[l] + nums[r]\r\n",
        "                if threeSum > 0:\r\n",
        "                    r -= 1\r\n",
        "                elif threeSum < 0:\r\n",
        "                    l += 1\r\n",
        "                else:\r\n",
        "                    res.append([a, nums[l], nums[r]])\r\n",
        "                    l += 1\r\n",
        "                    while nums[l] == nums[l - 1] and l < r:     #This is simply to avoid duplicates and also to check if that number also makes another triplet which incase would have been lost if the exterior loop wouldhave started\r\n",
        "                        l += 1\r\n",
        "        return res\r\n",
        "\r\n"
      ],
      "execution_count": 10,
      "outputs": [
        {
          "output_type": "stream",
          "text": [
            "[[0, 0, 0]]\n"
          ],
          "name": "stdout"
        }
      ]
    },
    {
      "cell_type": "code",
      "metadata": {
        "id": "5KMkgfubbkSw"
      },
      "source": [
        ""
      ],
      "execution_count": null,
      "outputs": []
    }
  ]
}