{
  "nbformat": 4,
  "nbformat_minor": 0,
  "metadata": {
    "colab": {
      "name": "LeetCode16.ipynb",
      "provenance": [],
      "collapsed_sections": [],
      "authorship_tag": "ABX9TyNK++dKz73yt2Db2mH7w/dq",
      "include_colab_link": true
    },
    "kernelspec": {
      "name": "python3",
      "display_name": "Python 3"
    }
  },
  "cells": [
    {
      "cell_type": "markdown",
      "metadata": {
        "id": "view-in-github",
        "colab_type": "text"
      },
      "source": [
        "<a href=\"https://colab.research.google.com/github/bitan2988/leetcode/blob/main/LeetCode16.ipynb\" target=\"_parent\"><img src=\"https://colab.research.google.com/assets/colab-badge.svg\" alt=\"Open In Colab\"/></a>"
      ]
    },
    {
      "cell_type": "markdown",
      "metadata": {
        "id": "9CJ-PV9Po_R4"
      },
      "source": [
        "https://leetcode.com/problems/3sum-closest/\r\n",
        "\r\n",
        "We fix one value and then use the  TWO POINTER APPROACH to find the other two value in the sorted array.\r\n",
        "Since its said there  is only one solution thus  we dont do the process of neglecting same values and look for  another triplet within that value of outer loop"
      ]
    },
    {
      "cell_type": "code",
      "metadata": {
        "id": "HKjOXTqSo85d"
      },
      "source": [
        "class Solution:\r\n",
        "    def threeSumClosest(self, nums: List[int], target: int) -> int:\r\n",
        "        diff = float('inf')     #assigninng infinite vale to find the lowest value using comparison\r\n",
        "        nums.sort()\r\n",
        "        for i in range(len(nums)):\r\n",
        "            lo, hi = i + 1, len(nums) - 1\r\n",
        "            while (lo < hi):\r\n",
        "                sum = nums[i] + nums[lo] + nums[hi]\r\n",
        "                if abs(target - sum) < abs(diff):      #checking if current difference is less than previous diff \r\n",
        "                    diff = target - sum\r\n",
        "                if sum < target:\r\n",
        "                    lo += 1\r\n",
        "                else:\r\n",
        "                    hi -= 1\r\n",
        "            if diff == 0:\r\n",
        "                break\r\n",
        "        return target - diff"
      ],
      "execution_count": null,
      "outputs": []
    }
  ]
}