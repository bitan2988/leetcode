{
  "nbformat": 4,
  "nbformat_minor": 0,
  "metadata": {
    "colab": {
      "name": "LeetCode1605.ipynb",
      "provenance": [],
      "authorship_tag": "ABX9TyNB9LF/sfxeSldP9PjnPKS9",
      "include_colab_link": true
    },
    "kernelspec": {
      "name": "python3",
      "display_name": "Python 3"
    }
  },
  "cells": [
    {
      "cell_type": "markdown",
      "metadata": {
        "id": "view-in-github",
        "colab_type": "text"
      },
      "source": [
        "<a href=\"https://colab.research.google.com/github/bitan2988/leetcode/blob/main/LeetCode1605.ipynb\" target=\"_parent\"><img src=\"https://colab.research.google.com/assets/colab-badge.svg\" alt=\"Open In Colab\"/></a>"
      ]
    },
    {
      "cell_type": "markdown",
      "metadata": {
        "id": "PxuCpyDOCBVF"
      },
      "source": [
        "https://leetcode.com/problems/find-valid-matrix-given-row-and-column-sums/\r\n",
        "\r\n",
        "\r\n",
        "\r\n",
        "\r\n",
        "GREEDY APPROACH\r\n",
        "\r\n",
        "https://leetcode.com/problems/find-valid-matrix-given-row-and-column-sums/discuss/974744/Python-Beats-99.83-(-No-heap-)-Illustration\r\n"
      ]
    },
    {
      "cell_type": "code",
      "metadata": {
        "colab": {
          "base_uri": "https://localhost:8080/"
        },
        "id": "pGHhIhvN3h0C",
        "outputId": "06aa24ac-1112-4a3d-edbc-e80c7c3e6d10"
      },
      "source": [
        "def crs(i,mat,c):\r\n",
        "  s = 0\r\n",
        "  for j in range(c):\r\n",
        "    s +=mat[i][j]\r\n",
        "  return s\r\n",
        "\r\n",
        "def ccs(j,mat,r):\r\n",
        "  s = 0\r\n",
        "  for i in range(r):\r\n",
        "    s +=mat[i][j]\r\n",
        "  return s\r\n",
        "\r\n",
        "\r\n",
        "\r\n",
        "if __name__ == \"__main__\":\r\n",
        "  rowSum = [14,9]\r\n",
        "  colSum = [6,9,8]\r\n",
        "  r = len(rowSum)\r\n",
        "  c = len(colSum)\r\n",
        "  mat = []\r\n",
        "  for i in range(r):\r\n",
        "    temp = []\r\n",
        "    for j in range(c):\r\n",
        "      temp.append(0)\r\n",
        "    mat.append(temp)\r\n",
        "\r\n",
        "  mat[0][0] = min(rowSum[0], colSum[0])\r\n",
        "  for i in range(r):\r\n",
        "    for j in range(c):\r\n",
        "      if (i==0 and j==0):\r\n",
        "        mat[0][0] = min(rowSum[0], colSum[0])\r\n",
        "      else:\r\n",
        "        rs  = crs(i, mat, c)  \r\n",
        "        cs = ccs(j, mat, r)\r\n",
        "        mat[i][j] = min((colSum[j]-cs),(rowSum[i]-rs))\r\n",
        "  print(mat)\r\n",
        "  "
      ],
      "execution_count": 13,
      "outputs": [
        {
          "output_type": "stream",
          "text": [
            "[[6, 8, 0], [0, 1, 8]]\n"
          ],
          "name": "stdout"
        }
      ]
    }
  ]
}