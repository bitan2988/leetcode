{
  "nbformat": 4,
  "nbformat_minor": 0,
  "metadata": {
    "colab": {
      "name": "leetcode807.ipynb",
      "provenance": [],
      "collapsed_sections": []
    },
    "kernelspec": {
      "name": "python3",
      "display_name": "Python 3"
    }
  },
  "cells": [
    {
      "cell_type": "code",
      "metadata": {
        "colab": {
          "base_uri": "https://localhost:8080/"
        },
        "id": "HI96EGOS-Mng",
        "outputId": "d52371f1-8cf2-49f3-ea1d-72456c86aa5e"
      },
      "source": [
        "#https://leetcode.com/problems/max-increase-to-keep-city-skyline/\r\n",
        "\r\n",
        "grid = [[3,0,8,4],[2,4,5,7],[9,2,6,3],[0,3,1,0]]\r\n",
        "lr = []\r\n",
        "t = []\r\n",
        "s = 0\r\n",
        "s1 = 0\r\n",
        "for i in range(len(grid)):\r\n",
        "  m  = 0\r\n",
        "  for j in range(len(grid)):\r\n",
        "    m = max(m,grid[i][j])\r\n",
        "    s +=grid[i][j]\r\n",
        "  lr.append(m)\r\n",
        "for i in range(len(grid)):\r\n",
        "  m = 0\r\n",
        "  for j in range(len(grid)):\r\n",
        "    m = max(m,grid[j][i])\r\n",
        "  t.append(m)\r\n",
        "print(t)\r\n",
        "print(lr)"
      ],
      "execution_count": null,
      "outputs": [
        {
          "output_type": "stream",
          "text": [
            "[9, 4, 8, 7]\n",
            "[8, 7, 9, 3]\n"
          ],
          "name": "stdout"
        }
      ]
    },
    {
      "cell_type": "code",
      "metadata": {
        "colab": {
          "base_uri": "https://localhost:8080/"
        },
        "id": "rEgfVWXP_rM1",
        "outputId": "ac904b11-74c1-4cf0-b6bd-ecfe0f00354c"
      },
      "source": [
        "for i in range(len(lr)):\r\n",
        "  for j in range(len(lr)):\r\n",
        "    grid[i][j] = min(t[j],lr[i])\r\n",
        "    s1 +=grid[i][j]\r\n",
        "print(grid)\r\n",
        "print(s1-s)"
      ],
      "execution_count": null,
      "outputs": [
        {
          "output_type": "stream",
          "text": [
            "[[8, 4, 8, 7], [7, 4, 7, 7], [9, 4, 8, 7], [3, 3, 3, 3]]\n"
          ],
          "name": "stdout"
        }
      ]
    }
  ]
}