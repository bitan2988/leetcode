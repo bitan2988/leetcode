{
  "nbformat": 4,
  "nbformat_minor": 0,
  "metadata": {
    "colab": {
      "name": "leetcode1282.ipynb",
      "provenance": [],
      "collapsed_sections": [],
      "authorship_tag": "ABX9TyOooDFoGc2BV+Cv0A9Jj+w+",
      "include_colab_link": true
    },
    "kernelspec": {
      "name": "python3",
      "display_name": "Python 3"
    }
  },
  "cells": [
    {
      "cell_type": "markdown",
      "metadata": {
        "id": "view-in-github",
        "colab_type": "text"
      },
      "source": [
        "<a href=\"https://colab.research.google.com/github/bitan2988/leetcode/blob/main/leetcode1282.ipynb\" target=\"_parent\"><img src=\"https://colab.research.google.com/assets/colab-badge.svg\" alt=\"Open In Colab\"/></a>"
      ]
    },
    {
      "cell_type": "code",
      "metadata": {
        "colab": {
          "base_uri": "https://localhost:8080/"
        },
        "id": "icjugwmlIsNI",
        "outputId": "c214dcd2-4275-45bd-efa8-220872414587"
      },
      "source": [
        "#https://leetcode.com/problems/group-the-people-given-the-group-size-they-belong-to/\r\n",
        "\r\n",
        "groupSizes = [3,3,3,3,3,1,3]\r\n",
        "k = []\r\n",
        "f = []\r\n",
        "for i in range(max(groupSizes)+1):\r\n",
        "  l = []\r\n",
        "  k.append(l)\r\n",
        "for i in range(len(groupSizes)):\r\n",
        "  k[groupSizes[i]].append(i)\r\n",
        "print(k)\r\n",
        "for i in range(1,len(k)):\r\n",
        "  el = int(len(k[i])/i)\r\n",
        "  m = 0\r\n",
        "  while (el):\r\n",
        "    l = k[i][el*m:el*m+i]\r\n",
        "    f.append(l)\r\n",
        "    m +=1\r\n",
        "    el -=1\r\n",
        "print(f)\r\n",
        "\r\n"
      ],
      "execution_count": 15,
      "outputs": [
        {
          "output_type": "stream",
          "text": [
            "[[], [5], [], [0, 1, 2, 3, 4, 6]]\n",
            "[[5], [0, 1, 2], [1, 2, 3]]\n"
          ],
          "name": "stdout"
        }
      ]
    },
    {
      "cell_type": "code",
      "metadata": {
        "id": "_kvLLj0FNbwD"
      },
      "source": [
        ""
      ],
      "execution_count": null,
      "outputs": []
    },
    {
      "cell_type": "code",
      "metadata": {
        "id": "jCys-C10Nm_u"
      },
      "source": [
        ""
      ],
      "execution_count": null,
      "outputs": []
    }
  ]
}